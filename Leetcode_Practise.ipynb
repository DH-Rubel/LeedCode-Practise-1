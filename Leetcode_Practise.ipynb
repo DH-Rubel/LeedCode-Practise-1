{
  "nbformat": 4,
  "nbformat_minor": 0,
  "metadata": {
    "colab": {
      "name": "Leetcode Practise.ipynb",
      "provenance": [],
      "collapsed_sections": []
    },
    "kernelspec": {
      "name": "python3",
      "display_name": "Python 3"
    },
    "language_info": {
      "name": "python"
    }
  },
  "cells": [
    {
      "cell_type": "code",
      "execution_count": 5,
      "metadata": {
        "colab": {
          "base_uri": "https://localhost:8080/"
        },
        "id": "I08fxZ5OS3mF",
        "outputId": "5f6a6076-af9b-4818-92c2-ffc0c5851c76"
      },
      "outputs": [
        {
          "output_type": "stream",
          "name": "stdout",
          "text": [
            "[-15, -7, -6, 1, 3, 5, 8]\n",
            "ListLength: 7\n",
            "Number1: 8 Number2: 5 Number3: 3\n",
            "Product1: 120\n",
            "Product2: 840\n",
            "Maximum Product: 840\n"
          ]
        }
      ],
      "source": [
        "#Maximum Product\n",
        "#Given an integer array nums, find three numbers whose product is maximum and return the maximum product.\n",
        "\n",
        "list1=[1,5,8,-6,-7,-15,3]\n",
        "list1.sort()\n",
        "#list1.index(1)\n",
        "print(list1)\n",
        "listLength=len(list1)\n",
        "print(\"ListLength:\",listLength)\n",
        "\n",
        "Number1=list1[listLength-1]\n",
        "Number2=list1[listLength-2]\n",
        "Number3=list1[listLength-3]\n",
        "print(\"Number1:\",Number1 , \"Number2:\",Number2 , \"Number3:\", Number3)\n",
        "Product1=Number1*Number2*Number3\n",
        "Product2=list1[0]*list1[1]*list1[listLength-1]\n",
        "print(\"Product1:\",Product1)\n",
        "print(\"Product2:\" ,Product2)\n",
        "print(\"Maximum Product:\" ,max(Product1, Product2))\n",
        "\n",
        "\n"
      ]
    },
    {
      "cell_type": "markdown",
      "source": [
        ""
      ],
      "metadata": {
        "id": "_jK876IAVG26"
      }
    },
    {
      "cell_type": "code",
      "source": [
        "#You are given an m x n integer grid accounts where accounts[i][j] is the amount of money the i​​​​​​​​​​​th​​​​ customer has in the j​​​​​​​​​​​th​​​​ bank. Return the wealth that the richest customer has.\n",
        "#A customer's wealth is the amount of money they have in all their bank accounts. The richest customer is the customer that has the maximum wealth.\n",
        "\n",
        "accounts = [[3,5,2], [5,4,3], [5,2,5],[5,2,2],[9,8,9]]\n",
        "n=len(accounts)\n",
        "wealth=[]\n",
        "print(n)\n",
        "for i in range(n):\n",
        "  accounts[i]\n",
        "  sum(accounts[i])\n",
        "  wealth.append(sum(accounts[i]))\n",
        "  #print(max(wealth))\n",
        "print(wealth)\n",
        "y=max(wealth)\n",
        "print(\"richest customar wealth=\" , y ,\"BDT\")"
      ],
      "metadata": {
        "colab": {
          "base_uri": "https://localhost:8080/"
        },
        "id": "KkldnV5nWrk1",
        "outputId": "d4830750-9c73-40fa-b52d-135e8a2810f7"
      },
      "execution_count": 9,
      "outputs": [
        {
          "output_type": "stream",
          "name": "stdout",
          "text": [
            "5\n",
            "[10, 12, 12, 9, 26]\n",
            "richest customar wealth= 26 BDT\n"
          ]
        }
      ]
    },
    {
      "cell_type": "markdown",
      "source": [
        ""
      ],
      "metadata": {
        "id": "_VQZUaYrVDx5"
      }
    },
    {
      "cell_type": "code",
      "source": [
        "#Shuffle Array\n",
        "#Given the array nums consisting of 2n elements in the form [x1,x2,...,xn,y1,y2,...,yn].\n",
        "#Return the array in the form [x1,y1,x2,y2,...,xn,yn].\n",
        "\n",
        "array_s=[1,4,7,3,2,6,5,9]\n",
        "y=len(array_s)\n",
        "x=y/2\n",
        "array_s3=[]\n",
        "print(x)\n",
        "array_s1=array_s[0:4]\n",
        "array_s2=array_s[4:y]\n",
        "for element in range(4):\n",
        "    array_s3.append(array_s1[element])\n",
        "    array_s3.append(array_s2[element])\n",
        "print(array_s1)\n",
        "print(array_s2)\n",
        "print(\"shuffle array is:\" ,array_s3)"
      ],
      "metadata": {
        "colab": {
          "base_uri": "https://localhost:8080/"
        },
        "id": "xfAXxuYnYbc8",
        "outputId": "4e8efc2e-24da-4db0-86f9-b4e473be2c98"
      },
      "execution_count": 10,
      "outputs": [
        {
          "output_type": "stream",
          "name": "stdout",
          "text": [
            "4.0\n",
            "[1, 4, 7, 3]\n",
            "[2, 6, 5, 9]\n",
            "shuffle array is: [1, 2, 4, 6, 7, 5, 3, 9]\n"
          ]
        }
      ]
    },
    {
      "cell_type": "code",
      "source": [
        "#Valid Perfect Square\n",
        "#Given a positive integer num, write a function which returns True if num is a perfect square else False.\n",
        "\n",
        "\n",
        "input_number=int(input())\n",
        "#input_number = int(input(\"Enter the Number\"))\n",
        "import math\n",
        "root = math.sqrt(input_number)\n",
        "if int(root + 0.5) ** 2 == input_number:\n",
        "    print(\"Yes\" ,input_number, \"is a perfect square\")\n",
        "else:\n",
        "    print(\" No\" ,input_number, \"is not a perfect square\")\n",
        "  #input_number(4)\n",
        "    #return(input_number)"
      ],
      "metadata": {
        "colab": {
          "base_uri": "https://localhost:8080/"
        },
        "id": "Auki5dYDZO6E",
        "outputId": "0deec050-be3c-468c-c72f-ef9e84dad1fa"
      },
      "execution_count": 13,
      "outputs": [
        {
          "output_type": "stream",
          "name": "stdout",
          "text": [
            "4\n",
            "Yes 4 is a perfect square\n"
          ]
        }
      ]
    },
    {
      "cell_type": "markdown",
      "source": [
        ""
      ],
      "metadata": {
        "id": "2DQBfKOJT2gr"
      }
    },
    {
      "cell_type": "markdown",
      "source": [
        ""
      ],
      "metadata": {
        "id": "CUae40esTzFe"
      }
    }
  ]
}